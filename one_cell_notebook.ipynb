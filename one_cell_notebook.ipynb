{
 "cells": [
  {
   "cell_type": "code",
   "execution_count": 2,
   "id": "d47d8c49-5b78-4141-9c4a-f2fabe5799eb",
   "metadata": {},
   "outputs": [
    {
     "data": {
      "application/vnd.jupyter.widget-view+json": {
       "model_id": "418decbc65bc4472b18e32af2bc2466c",
       "version_major": 2,
       "version_minor": 0
      },
      "text/plain": [
       "  0%|          | 0/10 [00:00<?, ?it/s]"
      ]
     },
     "metadata": {},
     "output_type": "display_data"
    },
    {
     "data": {
      "application/vnd.jupyter.widget-view+json": {
       "model_id": "1d2602ab5cfe4f9a9b3ddf935ddae7fd",
       "version_major": 2,
       "version_minor": 0
      },
      "text/plain": [
       "  0%|          | 0/8909 [00:00<?, ?it/s]"
      ]
     },
     "metadata": {},
     "output_type": "display_data"
    },
    {
     "data": {
      "application/vnd.jupyter.widget-view+json": {
       "model_id": "c82142d9bcce4d9186d0d51f9dc81775",
       "version_major": 2,
       "version_minor": 0
      },
      "text/plain": [
       "  0%|          | 0/8909 [00:00<?, ?it/s]"
      ]
     },
     "metadata": {},
     "output_type": "display_data"
    },
    {
     "data": {
      "application/vnd.jupyter.widget-view+json": {
       "model_id": "b4a250eae42543f496c5a3f35bd93791",
       "version_major": 2,
       "version_minor": 0
      },
      "text/plain": [
       "  0%|          | 0/8909 [00:00<?, ?it/s]"
      ]
     },
     "metadata": {},
     "output_type": "display_data"
    },
    {
     "data": {
      "application/vnd.jupyter.widget-view+json": {
       "model_id": "0147102bec694f7ba86344ea6272f53c",
       "version_major": 2,
       "version_minor": 0
      },
      "text/plain": [
       "  0%|          | 0/8909 [00:00<?, ?it/s]"
      ]
     },
     "metadata": {},
     "output_type": "display_data"
    },
    {
     "data": {
      "application/vnd.jupyter.widget-view+json": {
       "model_id": "28c7fbecd5d048a0bbac44512a02c0c4",
       "version_major": 2,
       "version_minor": 0
      },
      "text/plain": [
       "  0%|          | 0/8909 [00:00<?, ?it/s]"
      ]
     },
     "metadata": {},
     "output_type": "display_data"
    },
    {
     "data": {
      "application/vnd.jupyter.widget-view+json": {
       "model_id": "b8d1c3db2c884bf7828dc841c71cfa0b",
       "version_major": 2,
       "version_minor": 0
      },
      "text/plain": [
       "  0%|          | 0/8909 [00:00<?, ?it/s]"
      ]
     },
     "metadata": {},
     "output_type": "display_data"
    },
    {
     "data": {
      "application/vnd.jupyter.widget-view+json": {
       "model_id": "39225e39cc58495bb201ce08117d985e",
       "version_major": 2,
       "version_minor": 0
      },
      "text/plain": [
       "  0%|          | 0/8909 [00:00<?, ?it/s]"
      ]
     },
     "metadata": {},
     "output_type": "display_data"
    },
    {
     "data": {
      "application/vnd.jupyter.widget-view+json": {
       "model_id": "d4e19916b69c464bb3abe763ba8937dd",
       "version_major": 2,
       "version_minor": 0
      },
      "text/plain": [
       "  0%|          | 0/8909 [00:00<?, ?it/s]"
      ]
     },
     "metadata": {},
     "output_type": "display_data"
    },
    {
     "data": {
      "application/vnd.jupyter.widget-view+json": {
       "model_id": "3cd975a742e048a08a2ba893e6629773",
       "version_major": 2,
       "version_minor": 0
      },
      "text/plain": [
       "  0%|          | 0/8909 [00:00<?, ?it/s]"
      ]
     },
     "metadata": {},
     "output_type": "display_data"
    },
    {
     "data": {
      "application/vnd.jupyter.widget-view+json": {
       "model_id": "b172242920474dccb5b439152c0c65ab",
       "version_major": 2,
       "version_minor": 0
      },
      "text/plain": [
       "  0%|          | 0/8909 [00:00<?, ?it/s]"
      ]
     },
     "metadata": {},
     "output_type": "display_data"
    },
    {
     "data": {
      "text/html": [
       "<div>\n",
       "<style scoped>\n",
       "    .dataframe tbody tr th:only-of-type {\n",
       "        vertical-align: middle;\n",
       "    }\n",
       "\n",
       "    .dataframe tbody tr th {\n",
       "        vertical-align: top;\n",
       "    }\n",
       "\n",
       "    .dataframe thead th {\n",
       "        text-align: right;\n",
       "    }\n",
       "</style>\n",
       "<table border=\"1\" class=\"dataframe\">\n",
       "  <thead>\n",
       "    <tr style=\"text-align: right;\">\n",
       "      <th></th>\n",
       "      <th>lat</th>\n",
       "      <th>lon</th>\n",
       "      <th>street</th>\n",
       "    </tr>\n",
       "  </thead>\n",
       "  <tbody>\n",
       "    <tr>\n",
       "      <th>0</th>\n",
       "      <td>42.275912</td>\n",
       "      <td>-83.006381</td>\n",
       "      <td>Howard Avenue</td>\n",
       "    </tr>\n",
       "    <tr>\n",
       "      <th>1</th>\n",
       "      <td>42.019782</td>\n",
       "      <td>-82.760801</td>\n",
       "      <td>Heritage Road</td>\n",
       "    </tr>\n",
       "    <tr>\n",
       "      <th>2</th>\n",
       "      <td>42.153540</td>\n",
       "      <td>-82.810599</td>\n",
       "      <td>Malden Road</td>\n",
       "    </tr>\n",
       "    <tr>\n",
       "      <th>3</th>\n",
       "      <td>42.241539</td>\n",
       "      <td>-82.548183</td>\n",
       "      <td>Morris Road</td>\n",
       "    </tr>\n",
       "    <tr>\n",
       "      <th>4</th>\n",
       "      <td>42.240454</td>\n",
       "      <td>-82.987811</td>\n",
       "      <td>Lake Trail Drive</td>\n",
       "    </tr>\n",
       "    <tr>\n",
       "      <th>5</th>\n",
       "      <td>42.293289</td>\n",
       "      <td>-82.717007</td>\n",
       "      <td>Notre Dame Street</td>\n",
       "    </tr>\n",
       "    <tr>\n",
       "      <th>6</th>\n",
       "      <td>42.299658</td>\n",
       "      <td>-82.781204</td>\n",
       "      <td>County Road 22</td>\n",
       "    </tr>\n",
       "    <tr>\n",
       "      <th>7</th>\n",
       "      <td>42.305100</td>\n",
       "      <td>-82.556022</td>\n",
       "      <td>Tecumseh Road</td>\n",
       "    </tr>\n",
       "    <tr>\n",
       "      <th>8</th>\n",
       "      <td>42.256241</td>\n",
       "      <td>-83.037992</td>\n",
       "      <td>Huron Church Road</td>\n",
       "    </tr>\n",
       "    <tr>\n",
       "      <th>9</th>\n",
       "      <td>42.244522</td>\n",
       "      <td>-83.023492</td>\n",
       "      <td>Talbot Road</td>\n",
       "    </tr>\n",
       "  </tbody>\n",
       "</table>\n",
       "</div>"
      ],
      "text/plain": [
       "         lat        lon             street\n",
       "0  42.275912 -83.006381      Howard Avenue\n",
       "1  42.019782 -82.760801      Heritage Road\n",
       "2  42.153540 -82.810599        Malden Road\n",
       "3  42.241539 -82.548183        Morris Road\n",
       "4  42.240454 -82.987811   Lake Trail Drive\n",
       "5  42.293289 -82.717007  Notre Dame Street\n",
       "6  42.299658 -82.781204     County Road 22\n",
       "7  42.305100 -82.556022      Tecumseh Road\n",
       "8  42.256241 -83.037992  Huron Church Road\n",
       "9  42.244522 -83.023492        Talbot Road"
      ]
     },
     "execution_count": 2,
     "metadata": {},
     "output_type": "execute_result"
    }
   ],
   "source": [
    "import pandas as pd\n",
    "import numpy as np\n",
    "import xml.etree.ElementTree as ET\n",
    "import matplotlib.pyplot as plt\n",
    "from geopy.distance import geodesic\n",
    "from sklearn.cluster import KMeans\n",
    "from tqdm.notebook import tqdm\n",
    "\n",
    "USER_INPUT = 5\n",
    "\n",
    "\n",
    "# Loading trianing data\n",
    "df_2 = pd.read_csv(\"Charger_chall/lat_and_lon.csv\")\n",
    "df_2 = df_2.drop(columns=['Unnamed: 0'])\n",
    "\n",
    "# Loading another dataset which contains addtional features\n",
    "shapefile = pd.read_csv('Charger_chall/roads.csv')\n",
    "\n",
    "# Removing datapoints which we don't want chargers to be placed on\n",
    "cleaned_shapefile = shapefile.drop(shapefile[shapefile.type == 'residential'].index)\n",
    "cleaned_shapefile = cleaned_shapefile.drop(cleaned_shapefile[cleaned_shapefile.type == 'motorway'].index)\n",
    "cleaned_shapefile = cleaned_shapefile.drop(cleaned_shapefile[cleaned_shapefile.type == 'motorway_link'].index)\n",
    "cleaned_shapefile = cleaned_shapefile.drop(cleaned_shapefile[cleaned_shapefile.type == 'cycleway'].index)\n",
    "cleaned_shapefile = cleaned_shapefile.drop(cleaned_shapefile[cleaned_shapefile.type == 'footway'].index)\n",
    "cleaned_shapefile = cleaned_shapefile.drop(cleaned_shapefile[cleaned_shapefile.type == 'primary'].index)\n",
    "cleaned_shapefile = cleaned_shapefile.drop(cleaned_shapefile[cleaned_shapefile.type == 'pedestrian'].index)\n",
    "cleaned_shapefile = cleaned_shapefile.drop(cleaned_shapefile[cleaned_shapefile.type == 'living_street'].index)\n",
    "cleaned_shapefile = cleaned_shapefile.drop(cleaned_shapefile[cleaned_shapefile.type == 'primary_link'].index)\n",
    "cleaned_shapefile = cleaned_shapefile.drop(cleaned_shapefile[cleaned_shapefile.type == 'track'].index)\n",
    "cleaned_shapefile = cleaned_shapefile.drop(cleaned_shapefile[cleaned_shapefile.type == 'path'].index)\n",
    "cleaned_shapefile = cleaned_shapefile.drop(cleaned_shapefile[cleaned_shapefile.type == 'steps'].index)\n",
    "cleaned_shapefile = cleaned_shapefile.drop(cleaned_shapefile[cleaned_shapefile.type == 'proposed'].index)\n",
    "cleaned_shapefile = cleaned_shapefile.drop(cleaned_shapefile[cleaned_shapefile.type == 'raceway'].index)\n",
    "cleaned_shapefile = cleaned_shapefile.drop(cleaned_shapefile[cleaned_shapefile.type == 'corridor'].index)\n",
    "cleaned_shapefile = cleaned_shapefile.drop(cleaned_shapefile[cleaned_shapefile.type == 'bridleway'].index)\n",
    "cleaned_shapefile = cleaned_shapefile.drop(cleaned_shapefile[cleaned_shapefile.type == 'service'].index)\n",
    "cleaned_shapefile = cleaned_shapefile.drop(cleaned_shapefile[cleaned_shapefile.type == 'unclassified'].index)\n",
    "cleaned_shapefile = cleaned_shapefile.drop(cleaned_shapefile[cleaned_shapefile.type == 'tertiary_link'].index)\n",
    "cleaned_shapefile = cleaned_shapefile.drop(cleaned_shapefile[cleaned_shapefile.type == 'secondary_link'].index)\n",
    "\n",
    "# Cleaning the WKT column and getting all the lats and longs\n",
    "cleaned_shapefile[\"WKT\"] = cleaned_shapefile[\"WKT\"].replace(\"LINESTRING \\(\", \"\", regex=True)\n",
    "cleaned_shapefile[\"WKT\"] = cleaned_shapefile[\"WKT\"].replace(\"\\)\", \"\", regex=True)\n",
    "\n",
    "list_of_clean_cords = []\n",
    "for x in range(len(cleaned_shapefile['WKT'].values)):\n",
    "    for y in cleaned_shapefile['WKT'].values[x].split(\",\"):\n",
    "        list_of_clean_cords.append(y)\n",
    "\n",
    "clean_long = []\n",
    "clean_lat = []\n",
    "for z in list_of_clean_cords:\n",
    "    clean_long.append(float(z.strip().split(\" \")[0]))\n",
    "    clean_lat.append(float(z.strip().split(\" \")[1]))\n",
    "    \n",
    "clean_cords_df = pd.DataFrame()\n",
    "\n",
    "clean_cords_df['lat'] = clean_lat\n",
    "clean_cords_df['lon'] = clean_long\n",
    "\n",
    "clean_cords_df.drop_duplicates(inplace=True)\n",
    "clean_cords_df.reset_index(drop=True, inplace=True)\n",
    "\n",
    "# Removing duplicates, outliers and detroit\n",
    "clean_cords_df = clean_cords_df.drop(clean_cords_df[clean_cords_df.lat > 42.3086014].index)\n",
    "clean_cords_df = clean_cords_df.drop(clean_cords_df[clean_cords_df.lon < -83.0728775].index)\n",
    "clean_cords_df = clean_cords_df.drop(clean_cords_df[clean_cords_df.lon > -82.5096667].index)\n",
    "cleaned_shapefile.name = cleaned_shapefile.name.fillna('Street name missing')\n",
    "\n",
    "# Machine Learning -- K-Means Clustering\n",
    "k_means_model = KMeans(n_clusters = 10)\n",
    "k_means_model.fit(df_2)\n",
    "\n",
    "pred_labels = k_means_model.labels_\n",
    "centroid_list = k_means_model.cluster_centers_\n",
    "\n",
    "centroid_lat = []\n",
    "centroid_lon = []\n",
    "for x in centroid_list:\n",
    "    centroid_lat.append(x[0])\n",
    "    centroid_lon.append(x[1])\n",
    "    \n",
    "# Building predicted stations and OUTPUTTING\n",
    "predicted_chargers = pd.DataFrame()\n",
    "predicted_chargers['lat'] = centroid_lat\n",
    "predicted_chargers['lon'] = centroid_lon\n",
    "#predicted_chargers.to_csv('charger_output_5.csv')\n",
    "\n",
    "# Refining optimal results\n",
    "true_lat = []\n",
    "true_lon = []\n",
    "\n",
    "for y in tqdm(range(len(centroid_lat))):\n",
    "    centroid_cords = (centroid_lat[y], centroid_lon[y])\n",
    "    #a = centroid_lat[y]\n",
    "    #b = centroid_lon[y]\n",
    "    distance = []\n",
    "    for z in tqdm(range(len(clean_cords_df))):\n",
    "        main_cords = (clean_lat[z], clean_long[z])\n",
    "        distance.append(geodesic(main_cords, centroid_cords).meters)\n",
    "        #distance.append((abs(clean_lat[z]-a) + abs(clean_long[z]-b))*1000)\n",
    "        #distance.append((abs(clean_lat[z]-centroid_lat[y]) + abs(clean_long[z]-centroid_lon[y])))\n",
    "        #distance.append(sqrt(((clean_lat[z]-centroid_lat[y])**2 + (clean_long[z]-centroid_lon[y])**2)))\n",
    "        distance_df = pd.DataFrame()\n",
    "        distance_df['Distance'] = distance\n",
    "    true_lat.append(clean_cords_df.iloc[distance_df.sort_values('Distance').head(1).index[0]][0])\n",
    "    true_lon.append(clean_cords_df.iloc[distance_df.sort_values('Distance').head(1).index[0]][1])\n",
    "\n",
    "# Getting streetnames\n",
    "street_name = []\n",
    "for x in true_lat:\n",
    "    street = cleaned_shapefile[cleaned_shapefile['WKT'].str.contains(str(x))].name.values[0]\n",
    "    street_name.append(street)\n",
    "    \n",
    "# Making Pandas dataframe of true cords and the street location\n",
    "true_cords = pd.DataFrame()\n",
    "true_cords['lat'] = true_lat\n",
    "true_cords['lon'] = true_lon\n",
    "true_cords['street'] = street_name\n",
    "\n",
    "# Outputs\n",
    "true_cords"
   ]
  }
 ],
 "metadata": {
  "kernelspec": {
   "display_name": "Python 3 (ipykernel)",
   "language": "python",
   "name": "python3"
  },
  "language_info": {
   "codemirror_mode": {
    "name": "ipython",
    "version": 3
   },
   "file_extension": ".py",
   "mimetype": "text/x-python",
   "name": "python",
   "nbconvert_exporter": "python",
   "pygments_lexer": "ipython3",
   "version": "3.9.7"
  }
 },
 "nbformat": 4,
 "nbformat_minor": 5
}
